{
 "cells": [
  {
   "cell_type": "markdown",
   "id": "fad3fcc3",
   "metadata": {},
   "source": [
    "## HackerRank Basic Python: Python Shape Classes with Area Method"
   ]
  },
  {
   "cell_type": "code",
   "execution_count": 5,
   "id": "5c2d8b17",
   "metadata": {},
   "outputs": [
    {
     "name": "stdout",
     "output_type": "stream",
     "text": [
      "2\n",
      "rectangle 2 3\n",
      "6\n",
      "circle 5\n",
      "78.53981633974483\n"
     ]
    }
   ],
   "source": [
    "#!/bin/python3\n",
    "\n",
    "import math\n",
    "import os\n",
    "import random\n",
    "import re\n",
    "import sys\n",
    "\n",
    "\n",
    "class Rectangle:\n",
    "    def __init__(self,b,l):\n",
    "        self.b=b\n",
    "        self.l=l\n",
    "    def area(self):\n",
    "        return self.b*self.l\n",
    "    pass\n",
    "\n",
    "class Circle:\n",
    "    def __init__(self,r):\n",
    "        self.r=r\n",
    "    def area(self):\n",
    "        return math.pi*(self.r**2)\n",
    "    pass\n",
    "\n",
    "if __name__ == '__main__':  \n",
    "    #fptr = open(os.environ['OUTPUT_PATH'], 'w')\n",
    "    q = int(input())\n",
    "    queries = []\n",
    "    for _ in range(q):\n",
    "        args = input().split()\n",
    "        shape_name, params = args[0], tuple(map(int, args[1:]))\n",
    "        if shape_name == \"rectangle\":\n",
    "            a, b = params[0], params[1]\n",
    "            shape = Rectangle(a, b)\n",
    "        elif shape_name == \"circle\":\n",
    "            r = params[0]\n",
    "            shape = Circle(r)\n",
    "        else:\n",
    "            raise ValueError(\"invalid shape type\")\n",
    "        print(shape.area())\n",
    "        #fptr.write(\"%.2f\\n\" % shape.area())\n",
    "    #fptr.close()"
   ]
  },
  {
   "cell_type": "code",
   "execution_count": null,
   "id": "27d12a3f",
   "metadata": {},
   "outputs": [],
   "source": []
  }
 ],
 "metadata": {
  "kernelspec": {
   "display_name": "Python 3",
   "language": "python",
   "name": "python3"
  },
  "language_info": {
   "codemirror_mode": {
    "name": "ipython",
    "version": 3
   },
   "file_extension": ".py",
   "mimetype": "text/x-python",
   "name": "python",
   "nbconvert_exporter": "python",
   "pygments_lexer": "ipython3",
   "version": "3.7.6"
  },
  "toc": {
   "base_numbering": 1,
   "nav_menu": {},
   "number_sections": true,
   "sideBar": true,
   "skip_h1_title": false,
   "title_cell": "Table of Contents",
   "title_sidebar": "Contents",
   "toc_cell": false,
   "toc_position": {},
   "toc_section_display": true,
   "toc_window_display": false
  }
 },
 "nbformat": 4,
 "nbformat_minor": 5
}
