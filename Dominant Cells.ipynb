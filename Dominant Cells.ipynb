{
 "cells": [
  {
   "cell_type": "markdown",
   "id": "e6850582",
   "metadata": {},
   "source": [
    "### Python: Dominant Cells || Python (Basic) || HackerRank Skills Certifications || Solution"
   ]
  },
  {
   "cell_type": "code",
   "execution_count": 9,
   "id": "a418ef54",
   "metadata": {},
   "outputs": [
    {
     "name": "stdout",
     "output_type": "stream",
     "text": [
      "3\n",
      "3\n",
      "1 2 7\n",
      "4 5 6\n",
      "8 8 9\n",
      "2\n"
     ]
    }
   ],
   "source": [
    "#!/bin/python3\n",
    "\n",
    "import math\n",
    "import os\n",
    "import random\n",
    "import re\n",
    "import sys\n",
    "\n",
    "\n",
    "\n",
    "#\n",
    "# Complete the 'numCells' function below.\n",
    "#\n",
    "# The function is expected to return an INTEGER.\n",
    "# The function accepts 2D_INTEGER_ARRAY grid as parameter.\n",
    "#\n",
    "\n",
    "def numCells(grid):\n",
    "    # Write your code here\n",
    "    cnt=0\n",
    "    for i in range(len(grid)):\n",
    "        for j in range(len(grid[0])):\n",
    "            value=grid[i][j]\n",
    "            flag=1\n",
    "            for p in range(max(0,i-1),min(len(grid),i+2)):\n",
    "                for q in range(max(0,j-1),min(len(grid[0]),j+2)):\n",
    "                    if (p,q)!=(i,j) and value<=grid[p][q]:\n",
    "                        flag=0\n",
    "                        break\n",
    "                if flag==0:\n",
    "                    break\n",
    "            else:\n",
    "                cnt+=1\n",
    "    return cnt\n",
    "\n",
    "if __name__ == '__main__':\n",
    "    #fptr = open(os.environ['OUTPUT_PATH'], 'w')\n",
    "\n",
    "    grid_rows = int(input().strip())\n",
    "    grid_columns = int(input().strip())\n",
    "\n",
    "    grid = []\n",
    "\n",
    "    for _ in range(grid_rows):\n",
    "        grid.append(list(map(int, input().rstrip().split())))\n",
    "\n",
    "    result = numCells(grid)\n",
    "    print(str(result))\n",
    "    #fptr.write(str(result) + '\\n')\n",
    "    #fptr.close()\n"
   ]
  },
  {
   "cell_type": "code",
   "execution_count": null,
   "id": "a26f1930",
   "metadata": {},
   "outputs": [],
   "source": []
  },
  {
   "cell_type": "code",
   "execution_count": null,
   "id": "d04e6152",
   "metadata": {},
   "outputs": [],
   "source": []
  }
 ],
 "metadata": {
  "kernelspec": {
   "display_name": "Python 3",
   "language": "python",
   "name": "python3"
  },
  "language_info": {
   "codemirror_mode": {
    "name": "ipython",
    "version": 3
   },
   "file_extension": ".py",
   "mimetype": "text/x-python",
   "name": "python",
   "nbconvert_exporter": "python",
   "pygments_lexer": "ipython3",
   "version": "3.7.6"
  },
  "toc": {
   "base_numbering": 1,
   "nav_menu": {},
   "number_sections": true,
   "sideBar": true,
   "skip_h1_title": false,
   "title_cell": "Table of Contents",
   "title_sidebar": "Contents",
   "toc_cell": false,
   "toc_position": {},
   "toc_section_display": true,
   "toc_window_display": false
  }
 },
 "nbformat": 4,
 "nbformat_minor": 5
}
