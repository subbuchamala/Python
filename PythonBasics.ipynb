{
 "cells": [
  {
   "cell_type": "markdown",
   "id": "d2c2f892",
   "metadata": {},
   "source": [
    "# Installation\n",
    "* Download from: https://www.python.org/downloads/\n",
    "* To Check python installed in your machine, go to cmd prompt and type\n",
    "* python --version\n",
    "* IDLE tool come with Python interpretor itself. vs code, Jupyter Notebook."
   ]
  },
  {
   "cell_type": "markdown",
   "id": "57735734",
   "metadata": {},
   "source": [
    "# Variable declaration Rules:\n",
    "\n",
    "* A variable name must start with a letter or the underscore character\n",
    "* A variable name cannot start with a number\n",
    "* A variable name can only contain alpha-numeric characters and underscores (A-z, 0-9, and _ )\n",
    "* A variable name should not contain white spaces & special symbols except underscore\n",
    "* Variable names are case-sensitive (age, Age and AGE are three different variables)\n",
    "## Keywords:\n",
    "    1. Keywords are the reserved words\n",
    "    2. Examples: int, float, char, str, if, while , for"
   ]
  },
  {
   "cell_type": "markdown",
   "id": "fee81da7",
   "metadata": {},
   "source": [
    "## Python Datatypes / Variables:\n",
    "* Text Type:\tstr\n",
    "* Numeric Types:\tint, float, complex\n",
    "* Sequence Types:\tlist, tuple, range\n",
    "* Mapping Type:\tdict\n",
    "* Set Types:\tset, frozenset\n",
    "* Boolean Type:\tbool\n",
    "* Binary Types:\tbytes, bytearray, memoryview\n",
    "* None Type:\tNoneType"
   ]
  },
  {
   "cell_type": "markdown",
   "id": "6f90a2a0",
   "metadata": {},
   "source": [
    "# Print"
   ]
  },
  {
   "cell_type": "markdown",
   "id": "a632b3b4",
   "metadata": {},
   "source": [
    "## Print Hello World"
   ]
  },
  {
   "cell_type": "code",
   "execution_count": 100,
   "id": "02dc03c6",
   "metadata": {},
   "outputs": [
    {
     "name": "stdout",
     "output_type": "stream",
     "text": [
      "Hello World\n"
     ]
    }
   ],
   "source": [
    "print(\"Hello World\")"
   ]
  },
  {
   "cell_type": "markdown",
   "id": "4f8bc0e1",
   "metadata": {},
   "source": [
    "## Formatted Print."
   ]
  },
  {
   "cell_type": "code",
   "execution_count": 101,
   "id": "4f924e25",
   "metadata": {},
   "outputs": [
    {
     "name": "stdout",
     "output_type": "stream",
     "text": [
      "Method-1: comma saperated parameters\n",
      "Player Code =  193  type =  <class 'int'>\n",
      "Player Name =  Smith  type =  <class 'str'>\n",
      "Match1 Runs =  132  type =  <class 'int'>\n",
      "Match2 Runs =  120  type =  <class 'int'>\n",
      "Method-2: formatted print function\n",
      "Player Code = 193 \t Player Name = Smith \t Match1 Runs = 132 \t Match2 Runs = 120\n"
     ]
    }
   ],
   "source": [
    "#WAP to print playercode, playername, runs scored in two matches using variables\n",
    "\n",
    "playercode=193\n",
    "playername=\"Smith\"\n",
    "match1_runs=132\n",
    "match2_runs=120\n",
    "\n",
    "print(\"Method-1: comma saperated parameters\")\n",
    "\n",
    "print(\"Player Code = \", playercode, \" type = \", type(playercode))\n",
    "print(\"Player Name = \", playername, \" type = \", type(playername))\n",
    "print(\"Match1 Runs = \", match1_runs,\" type = \", type(match1_runs))\n",
    "print(\"Match2 Runs = \", match2_runs,\" type = \", type(match2_runs))\n",
    "\n",
    "\n",
    "print(\"Method-2: formatted print function\")\n",
    "\n",
    "print(f\"Player Code = {playercode} \\t Player Name = {playername} \\t Match1 Runs = {match1_runs} \\t Match2 Runs = {match2_runs}\")\n"
   ]
  },
  {
   "cell_type": "code",
   "execution_count": 7,
   "id": "d2b5b41c",
   "metadata": {},
   "outputs": [
    {
     "name": "stdout",
     "output_type": "stream",
     "text": [
      "       202                Mouse    1800.50          2\n",
      "       494                  RAM    2800.55          5\n",
      "       493              Monitor    7000.00         17\n"
     ]
    }
   ],
   "source": [
    "#WAP to print 3 product records using system identifiers\n",
    "\n",
    "prodcode=202\n",
    "prodname=\"Mouse\"\n",
    "price=1800.500\n",
    "qty=2\n",
    "\n",
    "print(\"%10d %20s %10.2f %10d\"%(prodcode,prodname,price,qty))\n",
    "\n",
    "prodcode=494\n",
    "prodname=\"RAM\"\n",
    "price=2800.555\n",
    "qty=5\n",
    "\n",
    "print(\"%10d %20s %10.2f %10d\"%(prodcode,prodname,price,qty))\n",
    "\n",
    "print(\"%10d %20s %10.2f %10d\"%(493,\"Monitor\",7000.00,17))\n",
    "\n",
    "# Notes:\n",
    "# System Identifiers : They are presentation of variable values to identify type and print as output\n",
    "\n",
    "# %d          int\n",
    "# %f          float\n",
    "# %c          character\n",
    "# %s          string\n"
   ]
  },
  {
   "cell_type": "markdown",
   "id": "bc313000",
   "metadata": {},
   "source": [
    "# Basic arithmetic calculations, IF-ELSE, Functions\n",
    "* Read input from User\n",
    "* User I/P - type conversion\n",
    "* Swapping numbers\n",
    "* Integer Division, Float Division\n",
    "* if-elif-else Statements\n",
    "* Functions"
   ]
  },
  {
   "cell_type": "markdown",
   "id": "8b353ccd",
   "metadata": {},
   "source": [
    "## Getting the Data Type"
   ]
  },
  {
   "cell_type": "code",
   "execution_count": 103,
   "id": "e4527377",
   "metadata": {},
   "outputs": [
    {
     "name": "stdout",
     "output_type": "stream",
     "text": [
      "<class 'int'>\n",
      "<class 'str'>\n"
     ]
    }
   ],
   "source": [
    "x = 5\n",
    "y=\"string\"\n",
    "print(type(x))\n",
    "print(type(y))"
   ]
  },
  {
   "cell_type": "markdown",
   "id": "26c6f907",
   "metadata": {},
   "source": [
    "## Casting"
   ]
  },
  {
   "cell_type": "code",
   "execution_count": 107,
   "id": "a351538c",
   "metadata": {},
   "outputs": [
    {
     "name": "stdout",
     "output_type": "stream",
     "text": [
      "Enter a :2\n",
      "Enter a :3\n",
      "<class 'str'>\n",
      "<class 'float'>\n"
     ]
    }
   ],
   "source": [
    "x = int(1)   # x will be 1\n",
    "y = int(2.8) # y will be 2\n",
    "z = int(\"3\") # z will be 3\n",
    "a = input(\"Enter a :\") #10  defaulting datatype is String.\n",
    "b = float(input(\"Enter a :\")) #10 casts to integer.\n",
    "print(type(a))\n",
    "print(type(b))"
   ]
  },
  {
   "cell_type": "markdown",
   "id": "10c43438",
   "metadata": {},
   "source": [
    "## Swap Numbers"
   ]
  },
  {
   "cell_type": "code",
   "execution_count": 108,
   "id": "d2c57e4d",
   "metadata": {},
   "outputs": [
    {
     "name": "stdout",
     "output_type": "stream",
     "text": [
      "Enter a :1\n",
      "Enter b :2\n",
      "a = 1 \t b = 2\n",
      "After,\n",
      "a = 2 \t b = 1\n"
     ]
    }
   ],
   "source": [
    "#WAP to input two numbers and perform swapping \n",
    "\n",
    "a = int(input(\"Enter a :\")) #10\n",
    "b = int(input(\"Enter b :\")) #20\n",
    "\n",
    "print(f\"a = {a} \\t b = {b}\")#10 20\n",
    "\n",
    "a, b = b, a\n",
    "\n",
    "print(\"After,\")\n",
    "print(f\"a = {a} \\t b = {b}\") #20 10\n",
    "\n",
    "# Method-1\n",
    "# t = a\n",
    "# a = b\n",
    "# b = t\n",
    "\n",
    "# Method-2\n",
    "# a = a+b #30\n",
    "# b = a-b #10\n",
    "# a = a-b #20\n"
   ]
  },
  {
   "cell_type": "markdown",
   "id": "d91a7caf",
   "metadata": {},
   "source": [
    "## Basic arithmetic calculations"
   ]
  },
  {
   "cell_type": "code",
   "execution_count": 109,
   "id": "f235f5db",
   "metadata": {},
   "outputs": [
    {
     "name": "stdout",
     "output_type": "stream",
     "text": [
      "Enter a:50\n",
      "Enter b:15\n",
      "value of  a = 50 \t value of b = 15\n",
      "Addition = \t 65\n",
      "Subtraction = \t 35\n",
      "Multiplication = \t 750\n",
      "Float division = \t 3.3333333333333335\n",
      "Integer Division = \t 3\n",
      "Remainder = \t 5\n"
     ]
    }
   ],
   "source": [
    "#WAP to input two numbers and perfom basic arithmetic calculations\n",
    "\n",
    "a = int(input(\"Enter a:\"))\n",
    "b = int(input(\"Enter b:\"))\n",
    "\n",
    "print(f\"value of  a = {a} \\t value of b = {b}\")\n",
    "\n",
    "addn=a+b\n",
    "print(f\"Addition = \\t {addn}\")\n",
    "\n",
    "subt=a-b\n",
    "print(f\"Subtraction = \\t {subt}\")\n",
    "\n",
    "mult=a*b\n",
    "print(f\"Multiplication = \\t {mult}\")\n",
    "\n",
    "fdiv=a/b\n",
    "print(f\"Float division = \\t {fdiv}\")\n",
    "\n",
    "idiv=a//b\n",
    "print(f\"Integer Division = \\t {idiv}\")\n",
    "\n",
    "rem=a%b\n",
    "print(f\"Remainder = \\t {rem}\")\n"
   ]
  },
  {
   "cell_type": "markdown",
   "id": "ec35ddf5",
   "metadata": {},
   "source": [
    "## if-else statement & functions"
   ]
  },
  {
   "cell_type": "code",
   "execution_count": 19,
   "id": "c60bb56b",
   "metadata": {},
   "outputs": [
    {
     "name": "stdout",
     "output_type": "stream",
     "text": [
      "Enter x :25\n",
      "Enter y :10\n",
      "1.Add \n",
      "2.Subtraction \n",
      "3.Multiplication \n",
      "4.Float Div \n",
      "5.Integer Div\n",
      "Enter Choice :5\n",
      "Integer Division of 25 and 10  = 2\n"
     ]
    }
   ],
   "source": [
    "#WAP to input two numbers and perfom basic arithmetic calculations using IF ELSE statements & Functions.\n",
    "#import library.calculator as c\n",
    "\n",
    "x = int(input(\"Enter x :\"))\n",
    "y = int(input(\"Enter y :\"))\n",
    "    \n",
    "\n",
    "print(\"1.Add \\n2.Subtraction \\n3.Multiplication \\n4.Float Div \\n5.Integer Div\")\n",
    "choice = int(input(\"Enter Choice :\"))\n",
    "\n",
    "if choice==1:\n",
    "    ans = addition(x, y)\n",
    "    print(f\"Addition of {x} and {y}  = {ans}\")\n",
    "    \n",
    "elif choice==2:\n",
    "    ans = subtraction(x, y)\n",
    "    print(f\"Subtraction of {x} and {y}  = {ans}\")\n",
    "elif choice==3:\n",
    "    ans = multiplication(x, y)\n",
    "    print(f\"Multiplication of {x} and {y}  = {ans}\")\n",
    "elif choice==4:\n",
    "    ans = fdivision(x, y)\n",
    "    print(f\"Float Division of {x} and {y}  = {ans}\")\n",
    "elif choice==5:\n",
    "    ans = idivision(x, y)\n",
    "    print(f\"Integer Division of {x} and {y}  = {ans}\")\n",
    "else:\n",
    "    print(\"Invalid Choice\")\n",
    "\n",
    "#Function Syntax / Defination:\n",
    "\n",
    "def addition(a, b):\n",
    "    return a+b\n",
    "\n",
    "def subtraction(a, b):\n",
    "    return a-b\n",
    "\n",
    "def multiplication(a, b):\n",
    "    return a*b\n",
    "\n",
    "def fdivision(a, b):\n",
    "    return a/b\n",
    "\n",
    "def idivision(a, b):\n",
    "    return a//b"
   ]
  },
  {
   "cell_type": "markdown",
   "id": "944fccba",
   "metadata": {},
   "source": [
    "# Operators"
   ]
  },
  {
   "cell_type": "markdown",
   "id": "ae9cd3c6",
   "metadata": {},
   "source": [
    "## Python Comparison Operators"
   ]
  },
  {
   "cell_type": "markdown",
   "id": "5abc1845",
   "metadata": {},
   "source": [
    "* Operator\tName\tExample\n",
    "* '=='\tEqual\tx == y\t\n",
    "* '!='\tNot equal\tx != y\t\n",
    "* '>' Greater than x > y\t\n",
    "* '<'\tLess than x < y\t\n",
    "* '>=' Greater than or equal to x >= y\t\n",
    "* '<=' Less than or equal to\tx <= y"
   ]
  },
  {
   "cell_type": "markdown",
   "id": "8287d502",
   "metadata": {},
   "source": [
    "## Python Logical Operators"
   ]
  },
  {
   "cell_type": "markdown",
   "id": "02dcdc03",
   "metadata": {},
   "source": [
    "Operator\tDescription\tExample\tTry it\n",
    "* 'and' \t--Returns True if both statements are true.\tx < 5 and  x < 10\t\n",
    "* 'or'\t--Returns True if one of the statements is true.\tx < 5 or x < 4\t\n",
    "* 'not'\t--Reverse the result, returns False if the result is true"
   ]
  },
  {
   "cell_type": "markdown",
   "id": "63a13ca0",
   "metadata": {},
   "source": [
    "## Python Membership Operators\n",
    "Operator\tDescription\tExample\n",
    "* 'in' \t--Returns True if a sequence with the specified value is present in the object.\tx in y\t\n",
    "* 'not in'\t--Returns True if a sequence with the specified value is not present in the object. x not in y"
   ]
  },
  {
   "cell_type": "markdown",
   "id": "10627a62",
   "metadata": {},
   "source": [
    "## Python Bitwise Operators\n",
    "Operator Name Description\n",
    "* & --->AND Sets each bit to 1 if both bits are 1\n",
    "* | --->OR Sets each bit to 1 if one of two bits is 1\n",
    "*  ^ --->XOR Sets each bit to 1 if only one of two bits is 1\n",
    "* ~ --->NOT Inverts all the bits\n",
    "* << --->Zero fill left shift. Shift left by pushing zeros in from the right and let the leftmost bits fall off\n",
    "* '>>' --->Signed right shift. Shift right by pushing copies of the leftmost bit in from the left, and let the rightmost bits fall off"
   ]
  },
  {
   "cell_type": "markdown",
   "id": "8c1baf08",
   "metadata": {},
   "source": [
    "## AND, OR Conditions"
   ]
  },
  {
   "cell_type": "code",
   "execution_count": 20,
   "id": "6b4b5d28",
   "metadata": {},
   "outputs": [
    {
     "name": "stdout",
     "output_type": "stream",
     "text": [
      "Enter Gender :male\n",
      "Enter age :50\n",
      "Enter Health Status :excellent\n",
      "Enter place :city\n",
      "Enter Policy amount :15000\n",
      "Person is not eligible for the policy\n"
     ]
    }
   ],
   "source": [
    "# WAP to input gender, age, healthstatus, place and policyamount of an employee and check whether employee\n",
    "# is eleigible for insurance in following cases or not\n",
    "\n",
    "# case1: gender is male and age is between 25 to 55, place is city and health is excellent as well as policy\n",
    "#        amount is greater than 2 lac then premium is Rs.6 per thousand\n",
    "# case2: gender is female and age is between 25 to 55, place is city and health is excellent as well as policy\n",
    "#        amount is greater than 1 lac then premium is Rs.3 per thousand\n",
    "# case3: gender is male and age is between 25 to 55, place is village and health is poor as well as policy\n",
    "#        amount is greater than 10 thousand then premium is 6% of policy amount\n",
    "\n",
    "\n",
    "gender = input(\"Enter Gender :\")\n",
    "age = int(input(\"Enter age :\"))\n",
    "health = input(\"Enter Health Status :\")\n",
    "place = input(\"Enter place :\")\n",
    "policyamt = int(input(\"Enter Policy amount :\"))\n",
    "\n",
    "if gender==\"male\" and age>=25 and age<=55 and health==\"excellent\" and place==\"city\" and policyamt>200000:\n",
    "    premium = policyamt*6/1000\n",
    "    print(f\"Premium is Rs.6 per thousand = Rs.{premium}\")\n",
    "    \n",
    "elif gender==\"female\" and age>=25 and age<=55 and health==\"excellent\" and place==\"city\" and policyamt>100000:\n",
    "    premium = policyamt*3/1000\n",
    "    print(f\"Premium is Rs.3 per thousand = Rs.{premium}\")\n",
    "\n",
    "elif gender==\"male\" and age>=25 and age<=55 and health==\"poor\" and place==\"village\" and policyamt>10000:\n",
    "    premium = policyamt*6/100\n",
    "    print(f\"Premium is 6 percent= Rs.{premium}\")\n",
    "\n",
    "else:\n",
    "    print(\"Person is not eligible for the policy\")\n",
    "\n",
    "    "
   ]
  },
  {
   "cell_type": "markdown",
   "id": "2a58f94c",
   "metadata": {},
   "source": [
    "# Loops"
   ]
  },
  {
   "cell_type": "markdown",
   "id": "987b095f",
   "metadata": {},
   "source": [
    "## The while Loop\n",
    "* With the while loop we can execute a set of statements as long as a condition is true."
   ]
  },
  {
   "cell_type": "code",
   "execution_count": null,
   "id": "d43f4c85",
   "metadata": {},
   "outputs": [],
   "source": [
    "#WAP to print 1 to 100 using while loop\n",
    "\n",
    "no=1\n",
    "while no<=100:\n",
    "    print(no, end=\",\")\n",
    "    no+=1\n",
    "\n",
    "#Ass: Write while loop to print even numbers between 1 to 100"
   ]
  },
  {
   "cell_type": "code",
   "execution_count": 38,
   "id": "cc271ffd",
   "metadata": {},
   "outputs": [
    {
     "name": "stdout",
     "output_type": "stream",
     "text": [
      "* \n",
      "* * \n",
      "* * * \n",
      "* * * * \n",
      "* * * * * \n",
      "        * \n",
      "      * * \n",
      "    * * * \n",
      "  * * * * \n",
      "* * * * * \n"
     ]
    }
   ],
   "source": [
    "# WAP to print following star pattern using while loop\n",
    "# *\n",
    "# * *\n",
    "# * * *\n",
    "# * * * *\n",
    "# * * * * *\n",
    "# print for n rows\n",
    "\n",
    "r=1\n",
    "while r<=5:\n",
    "    c=1\n",
    "    while c<=r:\n",
    "        print(\"*\",end=\" \")\n",
    "        c+=1\n",
    "    print()\n",
    "    r+=1\n",
    "\n",
    "# WAP to print following star pattern using while loop\n",
    "#         *\n",
    "#       * *\n",
    "#     * * *\n",
    "#   * * * *\n",
    "# * * * * *\n",
    "# print for n rows\n",
    "\n",
    "r=1\n",
    "while r<=5:\n",
    "    c=1   \n",
    "    while c<=(5-r):\n",
    "        print(\" \",end=\" \")\n",
    "        c+=1   \n",
    "    d=1\n",
    "    while d<=r:\n",
    "        print(\"*\",end=\" \")\n",
    "        d+=1   \n",
    "    print()\n",
    "    r+=1"
   ]
  },
  {
   "cell_type": "markdown",
   "id": "5a291397",
   "metadata": {},
   "source": [
    "## Python range() Loop\n",
    "* The range() function returns a sequence of numbers, \n",
    "* Starting from 0 by default, and increments by 1 (by default), and ends at a specified number."
   ]
  },
  {
   "cell_type": "code",
   "execution_count": 110,
   "id": "31ca6f8e",
   "metadata": {},
   "outputs": [
    {
     "name": "stdout",
     "output_type": "stream",
     "text": [
      "0\n",
      "1\n",
      "2\n",
      "3\n",
      "4\n",
      "5\n"
     ]
    }
   ],
   "source": [
    "for x in range(6):\n",
    "  print(x)\n",
    "# Note that range(6) is not the values of 0 to 6, but the values 0 to 5."
   ]
  },
  {
   "cell_type": "code",
   "execution_count": 111,
   "id": "2ee1b8a1",
   "metadata": {},
   "outputs": [
    {
     "name": "stdout",
     "output_type": "stream",
     "text": [
      "Enter n1 :10\n",
      "Enter n2 :20\n",
      "10,11,12,13,14,15,16,17,18,19,\n",
      "20,19,18,17,16,15,14,13,12,11,\n"
     ]
    }
   ],
   "source": [
    "#WAP to print numbers between the range. Includes lower number but excludes higher number.\n",
    "\n",
    "n1 = int(input(\"Enter n1 :\")) #50\n",
    "n2 = int(input(\"Enter n2 :\")) #41\n",
    "\n",
    "for i in range(n1, n2,1):\n",
    "    print(i, end=\",\")\n",
    "print(\"\")\n",
    "\n",
    "for i in range(n2, n1,-1):\n",
    "    print(i, end=\",\")\n",
    "print(\"\")"
   ]
  },
  {
   "cell_type": "code",
   "execution_count": 35,
   "id": "7b5ce40d",
   "metadata": {
    "collapsed": true
   },
   "outputs": [
    {
     "name": "stdout",
     "output_type": "stream",
     "text": [
      "1,2,3,4,5,\n",
      "5,4,3,2,1,"
     ]
    }
   ],
   "source": [
    "for i in range(n1, n2+1,1):\n",
    "    print(i, end=\",\")\n",
    "print(\"\")\n",
    "\n",
    "for i in range(n2, n1-1,-1):\n",
    "    print(i, end=\",\")"
   ]
  },
  {
   "cell_type": "markdown",
   "id": "0202803c",
   "metadata": {},
   "source": [
    "## Python For Loop\n",
    "* A for loop is used for iterating over a sequence (that is either a list, a tuple, a dictionary, a set, or a string)."
   ]
  },
  {
   "cell_type": "code",
   "execution_count": 112,
   "id": "ae7cc94c",
   "metadata": {},
   "outputs": [
    {
     "name": "stdout",
     "output_type": "stream",
     "text": [
      "apple\n",
      "banana\n",
      "cherry\n"
     ]
    }
   ],
   "source": [
    "# Print each fruit in a fruit list:\n",
    "fruits = [\"apple\", \"banana\", \"cherry\"]\n",
    "for x in fruits:\n",
    "  print(x)"
   ]
  },
  {
   "cell_type": "code",
   "execution_count": 113,
   "id": "b9b91382",
   "metadata": {},
   "outputs": [
    {
     "name": "stdout",
     "output_type": "stream",
     "text": [
      "b\n",
      "a\n",
      "n\n",
      "a\n",
      "n\n",
      "a\n"
     ]
    }
   ],
   "source": [
    "# Looping Through a String. Even strings are iterable objects, they contain a sequence of characters.\n",
    "# Loop through the letters in the word \"banana\":\n",
    "for x in \"banana\":\n",
    "  print(x)"
   ]
  },
  {
   "cell_type": "markdown",
   "id": "487502d1",
   "metadata": {},
   "source": [
    "## The break Statement\n",
    "* Example: Exit the loop when i is 3:"
   ]
  },
  {
   "cell_type": "code",
   "execution_count": null,
   "id": "7febd797",
   "metadata": {},
   "outputs": [],
   "source": [
    "# Example: Exit the loop when i is 3:\n",
    "    i = 1\n",
    "while i < 6:\n",
    "  print(i)\n",
    "  if i == 3:\n",
    "    break\n",
    "  i += 1"
   ]
  },
  {
   "cell_type": "code",
   "execution_count": null,
   "id": "2bf6cfd0",
   "metadata": {},
   "outputs": [],
   "source": [
    "# Exit the loop when x is \"banana\", but this time the break comes before the print:\n",
    "\n",
    "fruits = [\"apple\", \"banana\", \"cherry\"]\n",
    "for x in fruits:\n",
    "  if x == \"banana\":\n",
    "    break\n",
    "  print(x)"
   ]
  },
  {
   "cell_type": "markdown",
   "id": "1f94cd9d",
   "metadata": {},
   "source": [
    "## The continue Statement\n",
    "* With the continue statement we can stop the current iteration of the loop, and continue with the next:"
   ]
  },
  {
   "cell_type": "code",
   "execution_count": null,
   "id": "f3fc2254",
   "metadata": {},
   "outputs": [],
   "source": [
    "# Do not print banana:\n",
    "\n",
    "fruits = [\"apple\", \"banana\", \"cherry\"]\n",
    "for x in fruits:\n",
    "  if x == \"banana\":\n",
    "    continue\n",
    "  print(x)"
   ]
  },
  {
   "cell_type": "markdown",
   "id": "0b9f66bc",
   "metadata": {},
   "source": [
    "## The pass Statement\n",
    "* for loops cannot be empty, but if you for some reason have a for loop with no content, put in the pass statement to avoid getting an error."
   ]
  },
  {
   "cell_type": "code",
   "execution_count": 120,
   "id": "63e1ea49",
   "metadata": {},
   "outputs": [
    {
     "name": "stdout",
     "output_type": "stream",
     "text": [
      "hi\n",
      "hi\n",
      "hi\n"
     ]
    }
   ],
   "source": [
    "for x in [0, 1, 2]:\n",
    "    pass\n",
    "\n",
    "for x in [0, 1, 2]:\n",
    "    continue\n",
    "    print(\"hello\") "
   ]
  },
  {
   "cell_type": "markdown",
   "id": "93865757",
   "metadata": {},
   "source": [
    "# Strings & string methods"
   ]
  },
  {
   "cell_type": "markdown",
   "id": "a21bd394",
   "metadata": {},
   "source": [
    "## StringMethod\tDescription\n",
    "* capitalize()\tConverts the first character to upper case\n",
    "* casefold()\tConverts string into lower case\n",
    "* center()\tReturns a centered string\n",
    "* count()\tReturns the number of times a specified value occurs in a string\n",
    "* encode()\tReturns an encoded version of the string\n",
    "* endswith()\tReturns true if the string ends with the specified value\n",
    "* expandtabs()\tSets the tab size of the string\n",
    "* find()\tSearches the string for a specified value and returns the position of where it was found\n",
    "* format()\tFormats specified values in a string\n",
    "* format_map()\tFormats specified values in a string\n",
    "* index()\tSearches the string for a specified value and returns the position of where it was found\n",
    "* isalnum()\tReturns True if all characters in the string are alphanumeric\n",
    "* isalpha()\tReturns True if all characters in the string are in the alphabet\n",
    "* isascii()\tReturns True if all characters in the string are ascii characters\n",
    "* isdecimal()\tReturns True if all characters in the string are decimals\n",
    "* isdigit()\tReturns True if all characters in the string are digits\n",
    "* isidentifier()\tReturns True if the string is an identifier\n",
    "* islower()\tReturns True if all characters in the string are lower case\n",
    "* isnumeric()\tReturns True if all characters in the string are numeric\n",
    "* isprintable()\tReturns True if all characters in the string are printable\n",
    "* isspace()\tReturns True if all characters in the string are whitespaces\n",
    "* istitle()\tReturns True if the string follows the rules of a title\n",
    "* isupper()\tReturns True if all characters in the string are upper case\n",
    "* join()\tConverts the elements of an iterable into a string\n",
    "* ljust()\tReturns a left justified version of the string\n",
    "* lower()\tConverts a string into lower case\n",
    "* lstrip()\tReturns a left trim version of the string\n",
    "* maketrans()\tReturns a translation table to be used in translations\n",
    "* partition()\tReturns a tuple where the string is parted into three parts\n",
    "* replace()\tReturns a string where a specified value is replaced with a specified value\n",
    "* rfind()\tSearches the string for a specified value and returns the last position of where it was found\n",
    "* rindex()\tSearches the string for a specified value and returns the last position of where it was found\n",
    "* rjust()\tReturns a right justified version of the string\n",
    "* rpartition()\tReturns a tuple where the string is parted into three parts\n",
    "* rsplit()\tSplits the string at the specified separator, and returns a list\n",
    "* rstrip()\tReturns a right trim version of the string\n",
    "* split()\tSplits the string at the specified separator, and returns a list\n",
    "* splitlines()\tSplits the string at line breaks and returns a list\n",
    "* startswith()\tReturns true if the string starts with the specified value\n",
    "* strip()\tReturns a trimmed version of the string\n",
    "* swapcase()\tSwaps cases, lower case becomes upper case and vice versa\n",
    "* title()\tConverts the first character of each word to upper case\n",
    "* translate()\tReturns a translated string\n",
    "* upper()\tConverts a string into upper case\n",
    "* zfill()\tFills the string with a specified number of 0 values at the beginning"
   ]
  },
  {
   "cell_type": "code",
   "execution_count": 136,
   "id": "9227101d",
   "metadata": {},
   "outputs": [
    {
     "name": "stdout",
     "output_type": "stream",
     "text": [
      "capitalize:    hello 123, \t how are you  ? \t   you have a nice day.  \n",
      "casefold:    hello 123, \t how are you  ? \t   you have a nice day.  \n",
      "center:  OOOOOOOOOOOO  hello 123, \t How are you  ? \t   you have a nice day.  OOOOOOOOOOOO\n",
      "count:  2\n",
      "encode:  b'  hello 123, \\t How are you  ? \\t   you have a nice day.  '\n",
      "endswith:  False\n",
      "expandtabs:    hello 123,   How are you  ?      you have a nice day.  \n",
      "find:  23\n",
      "index:  23\n",
      "isalnum:  False\n",
      "isdecimal:  False\n",
      "isdigit:  False\n",
      "isidentifier:  False\n",
      "islower:  False\n",
      "isnumeric:  False\n",
      "isupper:  False\n",
      "join: JohnTESTPeterTESTVicky\n",
      "lower:    hello 123, \t how are you  ? \t   you have a nice day.  \n",
      "lstrip:  hello 123, \t How are you  ? \t   you have a nice day.  \n",
      "replace:    hello 123, \t How are you  ? \t   you have a nice day. Thank you  \n",
      "upper:    HELLO 123, \t HOW ARE YOU  ? \t   YOU HAVE A NICE DAY.  \n"
     ]
    }
   ],
   "source": [
    "txt = \"  hello 123, \\t How are you  ? \\t   you have a nice day.  \"\n",
    "\n",
    "print(\"capitalize: \", txt.capitalize())\n",
    "print(\"casefold: \", txt.casefold())\n",
    "print(\"center: \", txt.center(80,'O')) #Using the letter \"O\" as the padding character:\n",
    "print(\"count: \", txt.count(\"you\"))\n",
    "print(\"encode: \", txt.encode())\n",
    "print(\"endswith: \", txt.endswith(\".\"))\n",
    "print(\"expandtabs: \", txt.expandtabs(2))  #tabsize\n",
    "print(\"find: \", txt.find(\"you\"))\n",
    "print(\"index: \", txt.index(\"you\"))\n",
    "print(\"isalnum: \", txt.isalnum())\n",
    "print(\"isdecimal: \", txt.isdecimal()) #Check if all the characters in the unicode object are decimals:\n",
    "print(\"isdigit: \", txt.isdigit()) #Check if all the characters in the text are digits:\n",
    "print(\"isidentifier: \", txt.isidentifier()) #Check if the string is a valid identifier:\n",
    "print(\"islower: \", txt.islower()) #Check if all the characters in the text are in lower case:\n",
    "print(\"isnumeric: \", txt.isnumeric()) #Check if all the characters in the text are numeric:\n",
    "print(\"isupper: \", txt.isupper()) #Check if all the characters in the text are in upper case:\n",
    "myTuple = (\"John\", \"Peter\", \"Vicky\")\n",
    "mySeparator = \"TEST\"\n",
    "print(\"join:\",mySeparator.join(myTuple)) #Join all items in a tuple into a string, using a hash character as separator:\n",
    "print(\"lower: \", txt.lower()) #Lower case the string:\n",
    "print(\"lstrip: \", txt.lstrip()) #Remove spaces to the left of the string:\n",
    "print(\"replace: \", txt.replace(\"day.\",\"day. Thank you\"))\n",
    "print(\"upper: \", txt.upper()) #Upper case the string:\n",
    "\n"
   ]
  },
  {
   "cell_type": "markdown",
   "id": "a04328c6",
   "metadata": {},
   "source": [
    "# Python Collections (Arrays)\n",
    "There are four collection data types in the Python programming language:\n",
    "\n",
    "* List ----------is a collection which is ordered and changeable. Allows duplicate members.\n",
    "* Tuple -------is a collection which is ordered and unchangeable. Allows duplicate members.\n",
    "* Set ----------is a collection which is unordered, unchangeable, and unindexed. No duplicate members.\n",
    "* Dictionary --is a collection which is ordered and changeable. No duplicate members.\n",
    "* \n",
    "* Set items are unchangeable, but you can remove and/or add items whenever you like.\n",
    "* As of Python version 3.7, dictionaries are ordered. In Python 3.6 and earlier, dictionaries are unordered."
   ]
  },
  {
   "cell_type": "markdown",
   "id": "5093559d",
   "metadata": {},
   "source": [
    "# lists"
   ]
  },
  {
   "cell_type": "code",
   "execution_count": 43,
   "id": "5baa77ca",
   "metadata": {},
   "outputs": [],
   "source": [
    "# List items can be of any data type:\n",
    "list1 = [\"apple\", \"banana\", \"cherry\"]\n",
    "list2 = [1, 5, 7, 9, 3]\n",
    "list3 = [True, False, False]\n",
    "\n",
    "# A list with strings, integers and boolean values:\n",
    "list1 = [\"abc\", 34, True, 40, \"male\"]"
   ]
  },
  {
   "cell_type": "code",
   "execution_count": 127,
   "id": "9cb69546",
   "metadata": {},
   "outputs": [
    {
     "ename": "TypeError",
     "evalue": "list expected at most 1 arguments, got 3",
     "output_type": "error",
     "traceback": [
      "\u001b[1;31m---------------------------------------------------------------------------\u001b[0m",
      "\u001b[1;31mTypeError\u001b[0m                                 Traceback (most recent call last)",
      "\u001b[1;32m<ipython-input-127-fa5c955d4746>\u001b[0m in \u001b[0;36m<module>\u001b[1;34m\u001b[0m\n\u001b[0;32m      2\u001b[0m \u001b[1;31m# Using the list() constructor to make a List:\u001b[0m\u001b[1;33m\u001b[0m\u001b[1;33m\u001b[0m\u001b[1;33m\u001b[0m\u001b[0m\n\u001b[0;32m      3\u001b[0m \u001b[1;33m\u001b[0m\u001b[0m\n\u001b[1;32m----> 4\u001b[1;33m \u001b[0mthislist\u001b[0m \u001b[1;33m=\u001b[0m \u001b[0mlist\u001b[0m\u001b[1;33m(\u001b[0m\u001b[1;34m\"apple\"\u001b[0m\u001b[1;33m,\u001b[0m \u001b[1;34m\"banana\"\u001b[0m\u001b[1;33m,\u001b[0m \u001b[1;34m\"cherry\"\u001b[0m\u001b[1;33m)\u001b[0m \u001b[1;31m# note the double round-brackets\u001b[0m\u001b[1;33m\u001b[0m\u001b[1;33m\u001b[0m\u001b[0m\n\u001b[0m\u001b[0;32m      5\u001b[0m \u001b[0mprint\u001b[0m\u001b[1;33m(\u001b[0m\u001b[0mthislist\u001b[0m\u001b[1;33m)\u001b[0m\u001b[1;33m\u001b[0m\u001b[1;33m\u001b[0m\u001b[0m\n",
      "\u001b[1;31mTypeError\u001b[0m: list expected at most 1 arguments, got 3"
     ]
    }
   ],
   "source": [
    "# The list() Constructor\n",
    "# Using the list() constructor to make a List:\n",
    "l=list()\n",
    "d=dict()\n",
    "s=set()\n",
    "t=tuple()\n",
    "thislist = list((\"apple\", \"banana\", \"cherry\")) # note the double round-brackets\n",
    "print(thislist)"
   ]
  },
  {
   "cell_type": "markdown",
   "id": "c8223f08",
   "metadata": {},
   "source": [
    "## Access List Items\n",
    "* List items are indexed and you can access them by referring to the index number. \n",
    "* Note: The first item has index 0.\n",
    "* Negative Indexing\n",
    "    * Negative indexing means start from the end\n",
    "    * -1 refers to the last item, -2 refers to the second last item etc.\n",
    "* Range of Indexes\n",
    "    * You can specify a range of indexes by specifying where to start and where to end the range.\n",
    "    * When specifying a range, the return value will be a new list with the specified items.\n",
    "    * Note: The search will start at index 2 (included) and end at index 5 (not included)."
   ]
  },
  {
   "cell_type": "code",
   "execution_count": 124,
   "id": "f46f9dfd",
   "metadata": {},
   "outputs": [
    {
     "name": "stdout",
     "output_type": "stream",
     "text": [
      "banana\n"
     ]
    }
   ],
   "source": [
    "thislist = [\"apple\", \"banana\", \"cherry\", \"orange\", \"kiwi\", \"melon\", \"mango\"]\n",
    "print(thislist[1])"
   ]
  },
  {
   "cell_type": "code",
   "execution_count": 125,
   "id": "2908f972",
   "metadata": {},
   "outputs": [
    {
     "name": "stdout",
     "output_type": "stream",
     "text": [
      "mango\n"
     ]
    }
   ],
   "source": [
    "print(thislist[-1])"
   ]
  },
  {
   "cell_type": "code",
   "execution_count": 126,
   "id": "d0722cdd",
   "metadata": {},
   "outputs": [
    {
     "name": "stdout",
     "output_type": "stream",
     "text": [
      "['cherry', 'orange', 'kiwi']\n"
     ]
    }
   ],
   "source": [
    "print(thislist[2:5])"
   ]
  },
  {
   "cell_type": "code",
   "execution_count": 128,
   "id": "1680ae44",
   "metadata": {},
   "outputs": [
    {
     "name": "stdout",
     "output_type": "stream",
     "text": [
      "['apple', 'banana', 'cherry', 'orange']\n"
     ]
    }
   ],
   "source": [
    "print(thislist[:4])"
   ]
  },
  {
   "cell_type": "code",
   "execution_count": 129,
   "id": "46a05591",
   "metadata": {},
   "outputs": [
    {
     "name": "stdout",
     "output_type": "stream",
     "text": [
      "['cherry', 'orange', 'kiwi', 'melon', 'mango']\n"
     ]
    }
   ],
   "source": [
    "print(thislist[2:])"
   ]
  },
  {
   "cell_type": "code",
   "execution_count": 130,
   "id": "4af1df7b",
   "metadata": {},
   "outputs": [
    {
     "name": "stdout",
     "output_type": "stream",
     "text": [
      "['orange', 'kiwi', 'melon']\n"
     ]
    }
   ],
   "source": [
    "print(thislist[-4:-1])"
   ]
  },
  {
   "cell_type": "code",
   "execution_count": 82,
   "id": "08f9c4ff",
   "metadata": {
    "scrolled": true
   },
   "outputs": [
    {
     "name": "stdout",
     "output_type": "stream",
     "text": [
      "[11, 12, 13, 14, 15, 16, 17, 18, 19, 20]\n",
      "[11, 12, 13, 14, 15]\n",
      "[11, 12, 13, 14, 15, 16, 17, 18, 19]\n",
      "[13, 14, 15, 16, 17, 18, 19, 20]\n",
      "[20, 19, 18, 17, 16, 15, 14, 13, 12, 11]\n",
      "Sum of list values=   155\n",
      "min value =  11\n",
      "max value =  20\n",
      "Length of List =  10\n"
     ]
    }
   ],
   "source": [
    "#Create list in python\n",
    "x = [11,12,13,14,15,16,17,18,19,20]\n",
    "\n",
    "print(x)\n",
    "print(x[0:5])   #[11, 12, 13, 14, 15]\n",
    "print(x[:-1])   #[11, 12, 13, 14, 15, 16, 17, 18, 19]\n",
    "print(x[2:])    #[13, 14, 15, 16, 17, 18, 19, 20] \n",
    "print(x[::-1])  #[20, 19, 18, 17, 16, 15, 14, 13, 12, 11]  -->print in reverse order\n",
    "\n",
    "#print addition of all list items\n",
    "print(\"Sum of list values=  \", sum(x))\n",
    "#print max value & min value from the list\n",
    "print(\"min value = \", min(x))\n",
    "print(\"max value = \", max(x))\n",
    "print(\"Length of List = \", len(x))"
   ]
  },
  {
   "cell_type": "code",
   "execution_count": 131,
   "id": "210675b4",
   "metadata": {},
   "outputs": [
    {
     "name": "stdout",
     "output_type": "stream",
     "text": [
      "[11, 2, 4, 3, 0, 9]\n",
      "3\n",
      "[11, 2, 4, 11, 2, 4, 11, 2, 4]\n"
     ]
    },
    {
     "ename": "TypeError",
     "evalue": "unsupported operand type(s) for -: 'list' and 'int'",
     "output_type": "error",
     "traceback": [
      "\u001b[1;31m---------------------------------------------------------------------------\u001b[0m",
      "\u001b[1;31mTypeError\u001b[0m                                 Traceback (most recent call last)",
      "\u001b[1;32m<ipython-input-131-e5e9bd196874>\u001b[0m in \u001b[0;36m<module>\u001b[1;34m\u001b[0m\n\u001b[0;32m      6\u001b[0m \u001b[0mprint\u001b[0m\u001b[1;33m(\u001b[0m\u001b[0mlen\u001b[0m\u001b[1;33m(\u001b[0m\u001b[0mr1\u001b[0m\u001b[1;33m)\u001b[0m\u001b[1;33m)\u001b[0m \u001b[1;31m#3\u001b[0m\u001b[1;33m\u001b[0m\u001b[1;33m\u001b[0m\u001b[0m\n\u001b[0;32m      7\u001b[0m \u001b[0mprint\u001b[0m\u001b[1;33m(\u001b[0m\u001b[0mr1\u001b[0m\u001b[1;33m*\u001b[0m\u001b[1;36m3\u001b[0m\u001b[1;33m)\u001b[0m \u001b[1;31m#[11,2,4,11,2,4,11,2,4]\u001b[0m\u001b[1;33m\u001b[0m\u001b[1;33m\u001b[0m\u001b[0m\n\u001b[1;32m----> 8\u001b[1;33m \u001b[0mprint\u001b[0m\u001b[1;33m(\u001b[0m\u001b[0mr1\u001b[0m\u001b[1;33m-\u001b[0m\u001b[1;36m1\u001b[0m\u001b[1;33m)\u001b[0m \u001b[1;31m#Error\u001b[0m\u001b[1;33m\u001b[0m\u001b[1;33m\u001b[0m\u001b[0m\n\u001b[0m",
      "\u001b[1;31mTypeError\u001b[0m: unsupported operand type(s) for -: 'list' and 'int'"
     ]
    }
   ],
   "source": [
    "#operations on list:\n",
    "r1 = [11,2,4]\n",
    "r2 = [3, 0, 9]\n",
    "\n",
    "print(r1+r2) #[11,2,4,3,0,9]    --r1.extend(r2) OR for x in list2:  list1.append(x)\n",
    "print(len(r1)) #3\n",
    "print(r1*3) #[11,2,4,11,2,4,11,2,4]\n",
    "print(r1-1) #Error"
   ]
  },
  {
   "cell_type": "markdown",
   "id": "1434c69c",
   "metadata": {},
   "source": [
    "## Check if Item Exists"
   ]
  },
  {
   "cell_type": "code",
   "execution_count": 47,
   "id": "41af890a",
   "metadata": {},
   "outputs": [
    {
     "name": "stdout",
     "output_type": "stream",
     "text": [
      "Yes, 'apple' is in the fruits list\n"
     ]
    }
   ],
   "source": [
    "thislist = [\"apple\", \"banana\", \"cherry\", \"orange\", \"kiwi\", \"melon\", \"mango\"]\n",
    "if \"apple\" in thislist:\n",
    "  print(\"Yes, 'apple' is in the fruits list\")"
   ]
  },
  {
   "cell_type": "code",
   "execution_count": 48,
   "id": "86d7318b",
   "metadata": {},
   "outputs": [
    {
     "name": "stdout",
     "output_type": "stream",
     "text": [
      "['apple', 'mango', 'cherry', 'orange', 'kiwi', 'melon', 'mango']\n"
     ]
    }
   ],
   "source": [
    "## Change List Items\n",
    "thislist[1] = \"mango\"\n",
    "print(thislist)"
   ]
  },
  {
   "cell_type": "code",
   "execution_count": null,
   "id": "304fdb6c",
   "metadata": {},
   "outputs": [],
   "source": [
    "## Change a Range of Item Values\n",
    "thislist[1:3] = [\"mango\", \"watermelon\"]\n",
    "print(thislist)"
   ]
  },
  {
   "cell_type": "code",
   "execution_count": 72,
   "id": "44d02813",
   "metadata": {},
   "outputs": [
    {
     "name": "stdout",
     "output_type": "stream",
     "text": [
      "list using for loop\n",
      "Chicago\n",
      "New York\n",
      "Dallas\n",
      "Huston\n",
      "Charlotte\n",
      "Atlanta\n",
      "list using for of loop\n",
      "Chicago\n",
      "New York\n",
      "Dallas\n",
      "Huston\n",
      "Charlotte\n",
      "Atlanta\n"
     ]
    }
   ],
   "source": [
    "cities = [\"Chicago\",\"New York\",\"Dallas\",\"Huston\",\"Charlotte\",\"Atlanta\"]\n",
    "print(\"list using for loop\")\n",
    "for i in range(0,len(cities)):\n",
    "    print(cities[i])\n",
    "\n",
    "print(\"list using for of loop\")\n",
    "for item in cities:\n",
    "    print(item)"
   ]
  },
  {
   "cell_type": "markdown",
   "id": "f97b8c11",
   "metadata": {},
   "source": [
    "## list functions - append(), insert(), extend(), sort(),reverse(), remove(), pop(), clear()\n",
    " * Method\tDescription\n",
    "    * append()\t---Adds an element at the end of the list\n",
    "    * clear()\t---Removes all the elements from the list\n",
    "    * copy()\t---Returns a copy of the list\n",
    "    * count()\t---Returns the number of elements with the specified value\n",
    "    * extend()\t---Add the elements of a list (or any iterable), to the end of the current list\n",
    "    * index()\t---Returns the index of the first element with the specified value\n",
    "    * insert()\t---Adds an element at the specified position\n",
    "    * pop()\t---Removes the element at the specified position\n",
    "    * remove()\t---Removes the item with the specified value\n",
    "    * reverse()\t---Reverses the order of the list\n",
    "    * sort()\t---Sorts the list"
   ]
  },
  {
   "cell_type": "code",
   "execution_count": 84,
   "id": "7d7b4426",
   "metadata": {},
   "outputs": [
    {
     "name": "stdout",
     "output_type": "stream",
     "text": [
      "colors after insert item- BLACK =  ['red', 'BLACK', 'blue', 'white']\n",
      "colors after extend =  ['red', 'BLACK', 'blue', 'white', 'yellow', 'pink', 'green']\n",
      "['apple', 'banana', 'cherry', 'mango', 'pineapple', 'papaya']\n",
      "colors in ascending order =  ['BLACK', 'blue', 'green', 'pink', 'red', 'white', 'yellow']\n",
      "colors list in reverse order =  ['yellow', 'white', 'red', 'pink', 'green', 'blue', 'BLACK']\n",
      "after remove() color =  ['yellow', 'white', 'pink', 'green', 'blue', 'BLACK']\n",
      "after pop() color =  ['yellow', 'white', 'green', 'blue', 'BLACK']\n",
      "delete by index =  ['white', 'blue', 'BLACK']\n"
     ]
    }
   ],
   "source": [
    "colors = []\n",
    "#append\n",
    "colors.append(\"red\")\n",
    "colors.append(\"blue\")\n",
    "colors.append(\"white\")\n",
    "\n",
    "#insert - To insert a list item at a specified index, use the insert() method.\n",
    "colors.insert(1, \"BLACK\")\n",
    "print(\"colors after insert item- BLACK = \", colors)\n",
    "\n",
    "#extend -To append elements from another list to the current list, use the extend() method.\n",
    "colors.extend([\"yellow\",\"pink\",\"green\"])\n",
    "print(\"colors after extend = \", colors)\n",
    "\n",
    "thislist = [\"apple\", \"banana\", \"cherry\"]\n",
    "tropical = [\"mango\", \"pineapple\", \"papaya\"]\n",
    "thislist.extend(tropical)\n",
    "print(thislist)\n",
    "\n",
    "#sort  \n",
    "#-List objects have a sort() method that will sort the list alphanumerically, ascending, by default:\n",
    "# By default the sort() method is case sensitive, resulting in all capital letters being sorted before lower case letters:\n",
    "colors.sort()\n",
    "print(\"colors in ascending order = \", colors)\n",
    "colors.sort(reverse = True)   #descending order\n",
    "colors.sort(key = str.lower)  #case-insensitive order.\n",
    "print(colors)\n",
    "\n",
    "#reverse\n",
    "colors.reverse()\n",
    "print(\"colors list in reverse order = \", colors)\n",
    "\n",
    "#remove - The remove() method removes the specified item.\n",
    "colors.remove(\"red\")\n",
    "# colors.remove(\"red\")\n",
    "print(\"after remove() color = \", colors)\n",
    "\n",
    "#pop - The pop() method removes the specified index.\n",
    "colors.pop(2)\n",
    "print(\"after pop() color = \", colors)\n",
    "#del - The del keyword also removes the specified index. \n",
    "del colors[0]\n",
    "del colors[1]\n",
    "print(\"delete by index = \", colors)\n",
    "\n",
    "#The del keyword can also delete the list completely.\n",
    "del colors"
   ]
  },
  {
   "cell_type": "code",
   "execution_count": 85,
   "id": "005b0c00",
   "metadata": {
    "scrolled": true
   },
   "outputs": [
    {
     "name": "stdout",
     "output_type": "stream",
     "text": [
      "[11, 12, 13, 14, 15, 16, 17, 18, 19, 20]\n",
      "[]\n",
      "[11, 12, 13, 14, 15, 16, 17, 18, 19, 20]\n"
     ]
    }
   ],
   "source": [
    "x1 = [11,12,13,14,15,16,17,18,19,20]\n",
    "print(x1)\n",
    "\n",
    "#You cannot copy a list simply by typing list2 = list1, because: list2 will only be a reference to list1, \n",
    "#and changes made in list1 will automatically also be made in list2.\n",
    "\n",
    "#copy():\n",
    "#Method1:\n",
    "# Make a copy of a list with the copy() method:\n",
    "x2=x1.copy()\n",
    "\n",
    "#Method2:\n",
    "# Another way to make a copy is to use the built-in method list().\n",
    "x3 = list(x1)\n",
    "\n",
    "#clear():\n",
    "# The clear() method empties the list.\n",
    "x1.clear()\n",
    "print(x1)\n",
    "print(x2)\n",
    "print(x3)"
   ]
  },
  {
   "cell_type": "markdown",
   "id": "c0b78fee",
   "metadata": {},
   "source": [
    "# tuples\n",
    "Tuples are used to store multiple items in a single variable.\n",
    "A tuple is a collection which is ordered and unchangeable.\n",
    "* Tuple:\n",
    "    * Ordered.\n",
    "    * Unchangeable/immutable. \n",
    "    * Allows duplicate members.\n",
    "* Method\tDescription\n",
    "    * count()\t---Returns the number of times a specified value occurs in a tuple\n",
    "    * index()\t---Searches the tuple for a specified value and returns the position of where it was found"
   ]
  },
  {
   "cell_type": "code",
   "execution_count": null,
   "id": "e12bb2ed",
   "metadata": {},
   "outputs": [],
   "source": [
    "#tuples\n",
    "\n",
    "#Example1\n",
    "month = (\"Jan\",\"Feb\",\"Mar\",\"April\",\"May\",\"Jun\",\"Jul\",\"Aug\",\"Sept\")\n",
    "\n",
    "# month[0],month[1] = month[1],month[0]  ----throws error\n",
    "\n",
    "print(\"After swap,\")\n",
    "print(\"months tuple = \",month)\n",
    "\n",
    "#Example2\n",
    "y = ([\"red\",\"orange\"],[\"smith\",\"peter\"],[77,100])\n",
    "y[0].append(\"blue\")\n",
    "del y[1][0]\n",
    "y[2].extend([666,999])\n",
    "print(y)\n",
    "# del y[1] throws error"
   ]
  },
  {
   "cell_type": "markdown",
   "id": "eca7ebbb",
   "metadata": {},
   "source": [
    "## list to tuple and tuple to list conversion"
   ]
  },
  {
   "cell_type": "code",
   "execution_count": 89,
   "id": "3cc3a9fb",
   "metadata": {},
   "outputs": [
    {
     "name": "stdout",
     "output_type": "stream",
     "text": [
      "list:  ['smith', 'kang', 'nitin', 'pooja', 'trisha', 'nisha', 'peter']\n",
      "tuple: ('smith', 'kang', 'nitin', 'pooja', 'trisha', 'nisha', 'peter')\n",
      "tuple: ('India', 'Rassia', 'US', 'UK')\n",
      "list:  ['India', 'Rassia', 'US', 'UK']\n"
     ]
    }
   ],
   "source": [
    "#list vs tuple: convert list to tuple and tuple to list\n",
    "\n",
    "#Example1\n",
    "\n",
    "userslist = [\"smith\",\"kang\",\"nitin\",\"pooja\",\"trisha\",\"nisha\",\"peter\"]\n",
    "\n",
    "print(\"list: \", userslist)\n",
    "usertuple = tuple(userslist)\n",
    "print(\"tuple:\",usertuple)\n",
    "\n",
    "#Example2\n",
    "countries = (\"India\",\"Rassia\",\"US\",\"UK\")\n",
    "\n",
    "print(\"tuple:\",countries)\n",
    "countrieslist = list(countries)\n",
    "print(\"list: \", countrieslist)"
   ]
  },
  {
   "cell_type": "code",
   "execution_count": 90,
   "id": "2af566b3",
   "metadata": {},
   "outputs": [
    {
     "name": "stdout",
     "output_type": "stream",
     "text": [
      "banana\n",
      "mango\n",
      "('cherry', 'orange', 'kiwi')\n",
      "('apple', 'banana', 'cherry', 'orange')\n",
      "('cherry', 'orange', 'kiwi', 'melon', 'mango')\n",
      "('orange', 'kiwi', 'melon')\n",
      "Yes, 'apple' is in the fruits tuple\n"
     ]
    }
   ],
   "source": [
    "#tuple Access:\n",
    "thistuple = (\"apple\", \"banana\", \"cherry\", \"orange\", \"kiwi\", \"melon\", \"mango\")\n",
    "print(thistuple[1])\n",
    "print(thistuple[-1])\n",
    "print(thistuple[2:5])\n",
    "print(thistuple[:4])\n",
    "print(thistuple[2:])\n",
    "print(thistuple[-4:-1])\n",
    "\n",
    "if \"apple\" in thistuple:\n",
    "  print(\"Yes, 'apple' is in the fruits tuple\")"
   ]
  },
  {
   "cell_type": "markdown",
   "id": "e3b20991",
   "metadata": {},
   "source": [
    "# sets\n",
    "* A set is a collection which is unordered, unchangeable*, and unindexed.\n",
    "* set:\n",
    "    * unordered, \n",
    "    * unchangeable,  (* Note: Once a set is created, you cannot change its items, but you can remove items and add new items.)\n",
    "    * unindexed. \n",
    "    * No duplicate members.\n"
   ]
  },
  {
   "cell_type": "markdown",
   "id": "66922443",
   "metadata": {},
   "source": [
    "## set methods:\n",
    "* Method\tDescription\n",
    "    * add()\t---Adds an element to the set\n",
    "    * clear()\t---Removes all the elements from the set\n",
    "    * copy()\t---Returns a copy of the set\n",
    "    * difference()\t---Returns a set containing the difference between two or more sets\n",
    "    * difference_update()\t---Removes the items in this set that are also included in another, specified set\n",
    "    * discard()\t---Remove the specified item\n",
    "    * intersection()\t---Returns a set, that is the intersection of two other sets\n",
    "    * intersection_update()\t---Removes the items in this set that are not present in other, specified set(s)\n",
    "    * isdisjoint()\t---Returns whether two sets have a intersection or not\n",
    "    * issubset()\t---Returns whether another set contains this set or not\n",
    "    * issuperset()\t---Returns whether this set contains another set or not\n",
    "    * pop()\t---Removes an element from the set\n",
    "    * remove()\t---Removes the specified element\n",
    "    * symmetric_difference()\t---Returns a set with the symmetric differences of two sets\n",
    "    * symmetric_difference_update()\t---inserts the symmetric differences from this set and another\n",
    "    * union()\t---Return a set containing the union of sets\n",
    "    * update()\t---Update the set with the union of this set and others"
   ]
  },
  {
   "cell_type": "code",
   "execution_count": 132,
   "id": "9ce794ee",
   "metadata": {},
   "outputs": [
    {
     "name": "stdout",
     "output_type": "stream",
     "text": [
      "{11, 12, 13, 14, 15}\n",
      "length of set: 5\n",
      "{3, 45, 14, -48, 19}\n",
      "union of set1 and set2 =  {3, 11, 12, 13, 14, 15, 45, -48, 19}\n",
      "intersection of set1 and set2 =  {14}\n",
      "even set =  {24, 18, 12, 22}\n",
      "list of numbers =  [11, 12, 13, 14, 15]\n"
     ]
    }
   ],
   "source": [
    "#set\n",
    "set1 = {11,12,13,14,15,15,12,13}\n",
    "print(set1)\n",
    "print(\"length of set:\", len(set1))\n",
    "\n",
    "set2 = {14,19,3,45,-48,19}\n",
    "print(set2)\n",
    "\n",
    "unionab = set1.union(set2)\n",
    "print(\"union of set1 and set2 = \",unionab)\n",
    "\n",
    "intersectionab = set1.intersection(set2)\n",
    "print(\"intersection of set1 and set2 = \",intersectionab)\n",
    "\n",
    "#Note: set not support index access\n",
    "# print(set1[0]) Error\n",
    "\n",
    "even = [12,18,22,24,24,12]\n",
    "evenset = set(even)\n",
    "print(\"even set = \", evenset)\n",
    "\n",
    "listofnums = list(set1)\n",
    "print(\"list of numbers = \", listofnums)"
   ]
  },
  {
   "cell_type": "markdown",
   "id": "501dc385",
   "metadata": {},
   "source": [
    "# dictionaries\n",
    "* Dictionaries are used to store data values in key:value pairs.\n",
    "* Dictionary --is a collection which is ordered and changeable. No duplicate members.\n",
    "* Dictionary:\n",
    "    * Ordered\n",
    "    * Changeable\n",
    "    * No duplicate members"
   ]
  },
  {
   "cell_type": "code",
   "execution_count": null,
   "id": "2cc40562",
   "metadata": {},
   "outputs": [],
   "source": []
  },
  {
   "cell_type": "markdown",
   "id": "6469c55d",
   "metadata": {},
   "source": [
    "## Dictionary methods:\n",
    "* Method\tDescription\n",
    "    * clear()\t---Removes all the elements from the dictionary\n",
    "    * copy()\t---Returns a copy of the dictionary\n",
    "    * fromkeys()\t---Returns a dictionary with the specified keys and value\n",
    "    * get()\t---Returns the value of the specified key\n",
    "    * items()\t---Returns a list containing a tuple for each key value pair\n",
    "    * keys()\t---Returns a list containing the dictionary's keys\n",
    "    * pop()\t---Removes the element with the specified key\n",
    "    * popitem()\t---Removes the last inserted key-value pair\n",
    "    * setdefault()\t---Returns the value of the specified key. If the key does not exist: insert the key, with the specified value\n",
    "    * update()\t---Updates the dictionary with the specified key-value pairs\n",
    "    * values()\t---Returns a list of all the values in the dictionary"
   ]
  },
  {
   "cell_type": "code",
   "execution_count": 96,
   "id": "08b0eb5a",
   "metadata": {},
   "outputs": [
    {
     "name": "stdout",
     "output_type": "stream",
     "text": [
      "{'fname': 'Smith', 'lname': 'Mathew', 'age': 28, 'location': 'India'}\n",
      "['fname', 'lname', 'age', 'location']\n",
      "['Smith', 'Mathew', 28, 'India']\n"
     ]
    }
   ],
   "source": [
    "#Dictionary\n",
    "\n",
    "person = {\"fname\":\"Smith\",\"lname\":\"Mathew\",\"age\":28,\"location\":\"India\"}\n",
    "print(person)\n",
    "\n",
    "#get only keys from dictioary\n",
    "only_keys = list(person.keys())\n",
    "print(only_keys)\n",
    "\n",
    "#get only values from dictioary\n",
    "only_values = list(person.values())\n",
    "print(only_values)\n",
    "\n"
   ]
  },
  {
   "cell_type": "markdown",
   "id": "65521ca0",
   "metadata": {},
   "source": [
    "## dictionaries - Duplicates Not Allowed"
   ]
  },
  {
   "cell_type": "code",
   "execution_count": 133,
   "id": "dcf9ebbb",
   "metadata": {},
   "outputs": [
    {
     "name": "stdout",
     "output_type": "stream",
     "text": [
      "{'brand': 'Ford', 'model': 'Mustang', 'year': 2020}\n"
     ]
    }
   ],
   "source": [
    "# Dictionaries cannot have two items with the same key, Duplicate values will overwrite existing values:\n",
    "thisdict = {\n",
    "  \"brand\": \"Ford\",\n",
    "  \"model\": \"Mustang\",\n",
    "  \"year\": 1964,\n",
    "  \"year\": 2020\n",
    "}\n",
    "print(thisdict)"
   ]
  },
  {
   "cell_type": "markdown",
   "id": "7cba3dd3",
   "metadata": {},
   "source": [
    "## Access Dictionary Items"
   ]
  },
  {
   "cell_type": "code",
   "execution_count": null,
   "id": "10b4a88c",
   "metadata": {},
   "outputs": [],
   "source": [
    "thisdict = {\n",
    "  \"brand\": \"Ford\",\n",
    "  \"model\": \"Mustang\",\n",
    "  \"year\": 1964\n",
    "}\n",
    "x = thisdict[\"model\"]\n",
    "x = thisdict.get(\"model\")\n",
    "x = thisdict.keys()\n",
    "x = thisdict.values()\n",
    "x = thisdict.items()"
   ]
  },
  {
   "cell_type": "code",
   "execution_count": null,
   "id": "caa0ec02",
   "metadata": {},
   "outputs": [],
   "source": []
  },
  {
   "cell_type": "code",
   "execution_count": null,
   "id": "7ee42572",
   "metadata": {},
   "outputs": [],
   "source": []
  },
  {
   "cell_type": "code",
   "execution_count": null,
   "id": "3bab2e2b",
   "metadata": {},
   "outputs": [],
   "source": []
  },
  {
   "cell_type": "code",
   "execution_count": null,
   "id": "52ee96b6",
   "metadata": {},
   "outputs": [],
   "source": []
  },
  {
   "cell_type": "code",
   "execution_count": null,
   "id": "46ef41a5",
   "metadata": {},
   "outputs": [],
   "source": []
  },
  {
   "cell_type": "code",
   "execution_count": null,
   "id": "5af6ce6f",
   "metadata": {},
   "outputs": [],
   "source": []
  },
  {
   "cell_type": "code",
   "execution_count": null,
   "id": "3b3105ef",
   "metadata": {},
   "outputs": [],
   "source": []
  },
  {
   "cell_type": "code",
   "execution_count": null,
   "id": "bde2b762",
   "metadata": {},
   "outputs": [],
   "source": []
  },
  {
   "cell_type": "code",
   "execution_count": null,
   "id": "b1dc9535",
   "metadata": {},
   "outputs": [],
   "source": []
  },
  {
   "cell_type": "code",
   "execution_count": null,
   "id": "f5887c51",
   "metadata": {},
   "outputs": [],
   "source": []
  },
  {
   "cell_type": "code",
   "execution_count": null,
   "id": "d3c74e75",
   "metadata": {},
   "outputs": [],
   "source": []
  },
  {
   "cell_type": "code",
   "execution_count": null,
   "id": "603f10b0",
   "metadata": {},
   "outputs": [],
   "source": []
  },
  {
   "cell_type": "code",
   "execution_count": null,
   "id": "70b83d65",
   "metadata": {},
   "outputs": [],
   "source": []
  },
  {
   "cell_type": "code",
   "execution_count": null,
   "id": "a147dd6b",
   "metadata": {},
   "outputs": [],
   "source": []
  },
  {
   "cell_type": "code",
   "execution_count": null,
   "id": "dd9374ec",
   "metadata": {},
   "outputs": [],
   "source": []
  }
 ],
 "metadata": {
  "kernelspec": {
   "display_name": "Python 3",
   "language": "python",
   "name": "python3"
  },
  "language_info": {
   "codemirror_mode": {
    "name": "ipython",
    "version": 3
   },
   "file_extension": ".py",
   "mimetype": "text/x-python",
   "name": "python",
   "nbconvert_exporter": "python",
   "pygments_lexer": "ipython3",
   "version": "3.7.6"
  },
  "toc": {
   "base_numbering": 1,
   "nav_menu": {},
   "number_sections": true,
   "sideBar": true,
   "skip_h1_title": false,
   "title_cell": "Table of Contents",
   "title_sidebar": "Contents",
   "toc_cell": false,
   "toc_position": {
    "height": "calc(100% - 180px)",
    "left": "10px",
    "top": "150px",
    "width": "267px"
   },
   "toc_section_display": true,
   "toc_window_display": true
  }
 },
 "nbformat": 4,
 "nbformat_minor": 5
}
